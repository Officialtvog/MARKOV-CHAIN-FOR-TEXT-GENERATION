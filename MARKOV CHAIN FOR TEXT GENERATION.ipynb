{
 "cells": [
  {
   "cell_type": "markdown",
   "metadata": {},
   "source": [
    "## MARKOV CHAIN FOR TEXT GENERATION\n",
    "\n",
    "### am olanipekun temitope(DATA SCIENCE MANIAC)\n",
    "\n",
    "## THIS IS MY HANDS ON GUIDE  TO MARKOV CHAIN TEXT GEBNERATION.....\n",
    "\n",
    "\n",
    "Markov chains was what i learnt since my years in school as a statistics student,but not too lie it was something\n",
    "\n",
    "that  sincerely would be used for things in the statistical fielc gallantly,\n",
    "\n",
    "Markov chains are very simple and easy way to create statistical models on a random process,they have been used for\n",
    "\n",
    "quite sometime now amd mostly find applications in the financial industry and for productive text generation,\n",
    "\n",
    "which i basically used here for this course....Markov chains becane popular due to the fact that it does not \n",
    "\n",
    "require complex mathematical concepts or advanced statistics to build it.They are a great way to start to learn\n",
    "\n",
    "probabilistic modelling and data science implementations"
   ]
  },
  {
   "cell_type": "markdown",
   "metadata": {},
   "source": [
    "## WHAT ARE MARKOV CHAINS?\n",
    "\n",
    "Markov chains are random determined processes with a finite set of states that move from one state to another\n",
    "\n",
    "These sets of transitions from state are determined by some probability distribution..."
   ]
  },
  {
   "cell_type": "markdown",
   "metadata": {},
   "source": [
    "we want to read in the data to our workbook...so its goes thus"
   ]
  },
  {
   "cell_type": "code",
   "execution_count": 1,
   "metadata": {},
   "outputs": [
    {
     "name": "stdout",
     "output_type": "stream",
     "text": [
      "The speed of transmission is an important point of difference between the two viruses. Influenza has a shorter median incubation period (the time from infection to appearance of symptoms) and a shorter serial interval (the time between successive cases) than COVID-19 virus. The serial interval for COVID-19 virus is estimated to be 5-6 days, while for influenza virus, the serial interval is 3 days. This means that influenza can spread faster than COVID-19. \n",
      "\n",
      "Further, transmission in the first 3-5 days of illness, or potentially pre-symptomatic transmission â€“transmission of the virus before the appearance of symptoms â€“ is a major driver of transmission for influenza. In contrast, while we are learning that there are people who can shed COVID-19 virus 24-48 hours prior to symptom onset, at present, this does not appear to be a major driver of transmission. \n",
      "\n",
      "The reproductive number â€“ the number of secondary infections generated from one infected individual â€“ is understood to be between 2 and 2.5 for COVID-19 virus, higher than for influenza. However, estimates for both COVID-19 and influenza viruses are very context and time-specific, making direct comparisons more difficult.  \n"
     ]
    }
   ],
   "source": [
    "f = open('text.txt','r')\n",
    "print(f.read())"
   ]
  },
  {
   "cell_type": "code",
   "execution_count": null,
   "metadata": {},
   "outputs": [],
   "source": []
  },
  {
   "cell_type": "code",
   "execution_count": 10,
   "metadata": {},
   "outputs": [],
   "source": [
    "import re\n",
    "with open('text.txt','r') as file:\n",
    "    data = file.read().replace('\\n',\"\")\n",
    "    data"
   ]
  },
  {
   "cell_type": "code",
   "execution_count": null,
   "metadata": {},
   "outputs": [],
   "source": []
  },
  {
   "cell_type": "markdown",
   "metadata": {},
   "source": [
    "NOW we would import our markov chain  library for our text generation"
   ]
  },
  {
   "cell_type": "code",
   "execution_count": 2,
   "metadata": {},
   "outputs": [],
   "source": [
    "import markovify \n"
   ]
  },
  {
   "cell_type": "markdown",
   "metadata": {},
   "source": [
    "Next,you can choose how many sentences you want to generate by assigning the sentence count in the  for loop,\n",
    "\n",
    "i have generated 3 sentences here.\n",
    "\n",
    "The text method is for the generation of random sentneces from our data....."
   ]
  },
  {
   "cell_type": "code",
   "execution_count": 5,
   "metadata": {},
   "outputs": [
    {
     "name": "stdout",
     "output_type": "stream",
     "text": [
      "The speed of transmission for influenza.\n",
      "In contrast, while we are learning that there are people who can shed COVID-19 virus is estimated to be a major driver of transmission.\n",
      "In contrast, while we are learning that there are people who can shed COVID-19 virus is estimated to be a major driver of transmission is an important point of difference between the two viruses.\n"
     ]
    }
   ],
   "source": [
    "data = markovify.Text (data)\n",
    "for i in range(3):\n",
    "    print(data.make_sentence())"
   ]
  },
  {
   "cell_type": "markdown",
   "metadata": {},
   "source": [
    "Again the sentences are only random.Another option with this package is to choose how many characters should be in\n",
    "\n",
    "the sentneces...."
   ]
  },
  {
   "cell_type": "code",
   "execution_count": 6,
   "metadata": {},
   "outputs": [
    {
     "name": "stdout",
     "output_type": "stream",
     "text": [
      "The speed of transmission for influenza.\n",
      "In contrast, while we are learning that there are people who can shed COVID-19 virus is estimated to be 5-6 days, while for influenza virus, the serial interval for COVID-19 virus, higher than for influenza.\n",
      "The serial interval for COVID-19 virus, higher than for influenza.\n"
     ]
    }
   ],
   "source": [
    "for i in range(3):\n",
    "    print(data.make_short_sentence(280))"
   ]
  },
  {
   "cell_type": "markdown",
   "metadata": {},
   "source": [
    "Here, it prints 3 sentences wiht a maximum of 280 characters\n",
    "\n",
    "\n",
    "TAKE NOTE:everytime the programme is run,a new output is generated because markov  models are memoryless\n",
    "    \n",
    "We have sucessfully built a Markov chain text generator using custom and built in codes..\n",
    "\n"
   ]
  },
  {
   "cell_type": "markdown",
   "metadata": {},
   "source": [
    "## CONCLUSION:\n",
    "    \n",
    "markov chains are very simple and easy way to generate text that mimics humans to some extent.but,for effectively\n",
    "\n",
    "generate text,the text corpus needs to be filled with documents tht are similar..Simple Markov chains are the\n",
    "\n",
    "building blocks  of other,more sophisticated,modelling techniques.These models can be powerful tools for NLP and\n",
    "\n",
    "deep learning as well...\n",
    "\n"
   ]
  },
  {
   "cell_type": "code",
   "execution_count": null,
   "metadata": {},
   "outputs": [],
   "source": []
  }
 ],
 "metadata": {
  "kernelspec": {
   "display_name": "Python 3",
   "language": "python",
   "name": "python3"
  },
  "language_info": {
   "codemirror_mode": {
    "name": "ipython",
    "version": 3
   },
   "file_extension": ".py",
   "mimetype": "text/x-python",
   "name": "python",
   "nbconvert_exporter": "python",
   "pygments_lexer": "ipython3",
   "version": "3.7.6"
  }
 },
 "nbformat": 4,
 "nbformat_minor": 4
}
